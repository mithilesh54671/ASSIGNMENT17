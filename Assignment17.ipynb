{
 "cells": [
  {
   "cell_type": "markdown",
   "id": "3df1614a-4206-4801-8b27-e45ba67c4c82",
   "metadata": {},
   "source": [
    "Q1. Explain GET and POST methods."
   ]
  },
  {
   "cell_type": "markdown",
   "id": "d0d3b518-7904-467d-bfb6-fd019d6b3c5b",
   "metadata": {},
   "source": [
    "Both GET and POST method is used to transfer data from client to server in HTTP protocol but Main difference between POST and GET method is that GET carries request parameter appended in URL string while POST carries request parameter in message body which makes it more secure way of transferring data from client"
   ]
  },
  {
   "cell_type": "markdown",
   "id": "642b84ae-5482-4153-a0b6-b2c3bb635d98",
   "metadata": {},
   "source": [
    "Q2. Why is request used in Flask?"
   ]
  },
  {
   "cell_type": "markdown",
   "id": "bcd1241e-5838-400c-8b94-9225a5817696",
   "metadata": {},
   "source": [
    "The Flask Request Object is used to perform both sending and receiving operations from a user's browser to the server and process the request data from the server."
   ]
  },
  {
   "cell_type": "markdown",
   "id": "c8c9e21a-4211-4919-9094-ca6ce8c9a710",
   "metadata": {},
   "source": [
    "Q3. Why is redirect() used in Flask?"
   ]
  },
  {
   "cell_type": "markdown",
   "id": "bdd2f9f4-cd84-453b-a9a5-3acf49e32d48",
   "metadata": {},
   "source": [
    "A redirect is used in the Flask class to send the user to a particular URL with the status code. conversely, this status code additionally identifies the issue."
   ]
  },
  {
   "cell_type": "markdown",
   "id": "ef8382b9-fa5d-486e-9c54-016d97e5a61f",
   "metadata": {},
   "source": [
    "Q4. What are templates in Flask? Why is the render_template() function used?"
   ]
  },
  {
   "cell_type": "markdown",
   "id": "d5356a8e-83d0-4438-871d-455ac18f18c4",
   "metadata": {},
   "source": [
    "Render_template is a Flask function from the flask. templating package. render_template is used to generate output from a template file based on the Jinja2 engine that is found in the application's templates folder. Note that render_template is typically imported directly from the flask package instead of from flask."
   ]
  },
  {
   "cell_type": "markdown",
   "id": "e3cd01d5-a7b7-40e5-b424-258567a1292e",
   "metadata": {},
   "source": [
    "Q5. Create a simple API. Use Postman to test it. Attach the screenshot of the output in the Jupyter Notebook."
   ]
  },
  {
   "cell_type": "markdown",
   "id": "d334be6c-a891-4d82-81ec-27c1af64729a",
   "metadata": {},
   "source": [
    "1. Select APIs in the sidebar and select an API.\n",
    "2. Select Test and Automation.\n",
    "Next to Collections, select + and select an option: Add new collection - This option creates a new empty collection in the API. You can add your tests to the Tests tab"
   ]
  }
 ],
 "metadata": {
  "kernelspec": {
   "display_name": "Python 3 (ipykernel)",
   "language": "python",
   "name": "python3"
  },
  "language_info": {
   "codemirror_mode": {
    "name": "ipython",
    "version": 3
   },
   "file_extension": ".py",
   "mimetype": "text/x-python",
   "name": "python",
   "nbconvert_exporter": "python",
   "pygments_lexer": "ipython3",
   "version": "3.10.8"
  }
 },
 "nbformat": 4,
 "nbformat_minor": 5
}
